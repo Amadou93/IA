{
  "nbformat": 4,
  "nbformat_minor": 0,
  "metadata": {
    "colab": {
      "name": "Copie de DehTEAM-- 9 - Projet IA",
      "provenance": [],
      "collapsed_sections": [],
      "include_colab_link": true
    },
    "kernelspec": {
      "name": "python3",
      "display_name": "Python 3"
    }
  },
  "cells": [
    {
      "cell_type": "markdown",
      "metadata": {
        "id": "view-in-github",
        "colab_type": "text"
      },
      "source": [
        "<a href=\"https://colab.research.google.com/github/Amadou93/IA/blob/master/DehTEAM_9_Projet_IA.ipynb\" target=\"_parent\"><img src=\"https://colab.research.google.com/assets/colab-badge.svg\" alt=\"Open In Colab\"/></a>"
      ]
    },
    {
      "cell_type": "markdown",
      "metadata": {
        "id": "HuXCo4pEvvgt",
        "colab_type": "text"
      },
      "source": [
        "This code comes from:\n",
        "\n",
        "https://medium.com/analytics-vidhya/building-a-simple-chatbot-in-python-using-nltk-7c8c8215ac6e"
      ]
    },
    {
      "cell_type": "markdown",
      "metadata": {
        "id": "PsHirAMRv2Rk",
        "colab_type": "text"
      },
      "source": [
        "Importation des biblothéques necessaire\n"
      ]
    },
    {
      "cell_type": "code",
      "metadata": {
        "id": "aaQFTsBJv8m5",
        "colab_type": "code",
        "colab": {}
      },
      "source": [
        "import nltk \n",
        "import numpy as np \n",
        "import random \n",
        "import string # pour traiter les chaînes python standard\n",
        "import warnings "
      ],
      "execution_count": 4,
      "outputs": []
    },
    {
      "cell_type": "markdown",
      "metadata": {
        "id": "1VdpcQQUCIW1",
        "colab_type": "text"
      },
      "source": [
        "Importer notre google drive"
      ]
    },
    {
      "cell_type": "code",
      "metadata": {
        "id": "a39aXq0vB3kj",
        "colab_type": "code",
        "colab": {
          "base_uri": "https://localhost:8080/",
          "height": 123
        },
        "outputId": "c3484119-7e33-49cf-ac56-5c099db11efd"
      },
      "source": [
        "# Connecting Google Drive Data Files to Google Colab Notebook.\n",
        "# Load the Google Drive helper and mount the drive.\n",
        "from google.colab import drive\n",
        "\n",
        "# This will prompt for authorization. Click the link and provide the required information.\n",
        "\n",
        "drive.mount('/content/drive')"
      ],
      "execution_count": 6,
      "outputs": [
        {
          "output_type": "stream",
          "text": [
            "Go to this URL in a browser: https://accounts.google.com/o/oauth2/auth?client_id=947318989803-6bn6qk8qdgf4n4g3pfee6491hc0brc4i.apps.googleusercontent.com&redirect_uri=urn%3aietf%3awg%3aoauth%3a2.0%3aoob&response_type=code&scope=email%20https%3a%2f%2fwww.googleapis.com%2fauth%2fdocs.test%20https%3a%2f%2fwww.googleapis.com%2fauth%2fdrive%20https%3a%2f%2fwww.googleapis.com%2fauth%2fdrive.photos.readonly%20https%3a%2f%2fwww.googleapis.com%2fauth%2fpeopleapi.readonly\n",
            "\n",
            "Enter your authorization code:\n",
            "··········\n",
            "Mounted at /content/drive\n"
          ],
          "name": "stdout"
        }
      ]
    },
    {
      "cell_type": "code",
      "metadata": {
        "id": "JywggEOPwj55",
        "colab_type": "code",
        "colab": {
          "base_uri": "https://localhost:8080/",
          "height": 86
        },
        "outputId": "c814e097-7725-453c-d183-bd8014bb2ff5"
      },
      "source": [
        "f=open('/content/drive/My Drive/Deep Learning/chatbot.txt','r',errors = 'ignore')\n",
        "raw = f.read ()\n",
        "raw = raw.lower () # convertit en minuscules\n",
        "nltk.download ('punkt') # première utilisation uniquement \n",
        "nltk.download ('wordnet') # première utilisation uniquement\n",
        "sent_tokens = nltk.sent_tokenize (raw) # converti en liste de phrases \n",
        "word_tokens = nltk.word_tokenize (raw) # converti en liste de mots"
      ],
      "execution_count": 7,
      "outputs": [
        {
          "output_type": "stream",
          "text": [
            "[nltk_data] Downloading package punkt to /root/nltk_data...\n",
            "[nltk_data]   Unzipping tokenizers/punkt.zip.\n",
            "[nltk_data] Downloading package wordnet to /root/nltk_data...\n",
            "[nltk_data]   Unzipping corpora/wordnet.zip.\n"
          ],
          "name": "stdout"
        }
      ]
    },
    {
      "cell_type": "code",
      "metadata": {
        "id": "GU9MPuDaMMYy",
        "colab_type": "code",
        "colab": {}
      },
      "source": [
        "lemmer = nltk.stem.WordNetLemmatizer()\n",
        "#WordNet is a semantically-oriented dictionary of English included in NLTK.\n",
        "def LemTokens(tokens):\n",
        "    return [lemmer.lemmatize(token) for token in tokens]\n",
        "remove_punct_dict = dict((ord(punct), None) for punct in string.punctuation)\n",
        "def LemNormalize(text):\n",
        "    return LemTokens(nltk.word_tokenize(text.lower().translate(remove_punct_dict)))"
      ],
      "execution_count": 8,
      "outputs": []
    },
    {
      "cell_type": "code",
      "metadata": {
        "id": "S4vS0NBIRSKX",
        "colab_type": "code",
        "colab": {}
      },
      "source": [
        "GREETING_INPUTS = (\"Hello, I would like to make some exchanges with you\",\"hello\")\n",
        "GREETING_RESPONSES = [\"Hello, it's always a pleasure to receive your visit\"]\n",
        "def greeting(sentence):\n",
        "    for word in sentence.split():\n",
        "        if word.lower() in GREETING_INPUTS:\n",
        "            return random.choice(GREETING_RESPONSES)"
      ],
      "execution_count": 9,
      "outputs": []
    },
    {
      "cell_type": "code",
      "metadata": {
        "id": "zze3xsloRnG3",
        "colab_type": "code",
        "colab": {}
      },
      "source": [
        "from sklearn.feature_extraction.text import TfidfVectorizer"
      ],
      "execution_count": 10,
      "outputs": []
    },
    {
      "cell_type": "code",
      "metadata": {
        "id": "cLSWNAuoRqJQ",
        "colab_type": "code",
        "colab": {}
      },
      "source": [
        "from sklearn.metrics.pairwise import cosine_similarity"
      ],
      "execution_count": 11,
      "outputs": []
    },
    {
      "cell_type": "code",
      "metadata": {
        "id": "zmaIb9Vdz0Ul",
        "colab_type": "code",
        "colab": {}
      },
      "source": [
        "from IPython.display import Markdown, display\n",
        "def printmd(string):\n",
        "    display(Markdown(string))\n",
        "def printmd(string, color=None):\n",
        "    colorstr = \"<span style='color:{}'>{}</span>\".format(color, string)\n",
        "    display(Markdown(colorstr))"
      ],
      "execution_count": 12,
      "outputs": []
    },
    {
      "cell_type": "code",
      "metadata": {
        "id": "xx5rnnisRwGx",
        "colab_type": "code",
        "colab": {}
      },
      "source": [
        "def response(user_response):\n",
        "    robo_response=''\n",
        "    sent_tokens.append(user_response)    \n",
        "    TfidfVec = TfidfVectorizer(tokenizer=LemNormalize, stop_words='english')\n",
        "    tfidf = TfidfVec.fit_transform(sent_tokens)\n",
        "    vals = cosine_similarity(tfidf[-1], tfidf)\n",
        "    idx=vals.argsort()[0][-2]\n",
        "    flat = vals.flatten()\n",
        "    flat.sort()\n",
        "    req_tfidf = flat[-2]    \n",
        "    if(req_tfidf==0):\n",
        "        robo_response=robo_response+\"I am sorry! I don't understand you\"\n",
        "        return robo_response\n",
        "    else:\n",
        "        robo_response = robo_response+sent_tokens[idx]\n",
        "        return robo_response"
      ],
      "execution_count": 13,
      "outputs": []
    },
    {
      "cell_type": "code",
      "metadata": {
        "id": "xBs_CNpCSOzL",
        "colab_type": "code",
        "colab": {
          "base_uri": "https://localhost:8080/",
          "height": 112
        },
        "outputId": "bdfed488-b563-42ce-d91c-9484fb8d4a17"
      },
      "source": [
        "flag=True\n",
        "warnings.filterwarnings('ignore')\n",
        "printmd (\"**: Hello My name is SOPHIA. If you have questions to ask I will answer them with pleasure. If you want to exit type bye!**\", color=\"blue\")\n",
        "\n",
        "while(flag==True):\n",
        "    user_response = input()\n",
        "    user_response=user_response.lower()\n",
        "    if(user_response!='bye'):\n",
        "        if(user_response=='thanks' or user_response=='thank you' ):\n",
        "            flag=False\n",
        "            printmd(\"**: You are welcome my dear..**\")\n",
        "        else:\n",
        "            if(greeting(user_response)!=None):\n",
        "                printmd(\"**: \"+greeting(user_response)+\"**\")\n",
        " \n",
        "            else:\n",
        "               \n",
        "                \n",
        "                printmd(\"**:\"+response(user_response)+\"**\")\n",
        "                sent_tokens.remove(user_response)\n",
        "    else:\n",
        "        flag=False\n",
        "        printmd(\"**: Bye! take care..**\")"
      ],
      "execution_count": null,
      "outputs": [
        {
          "output_type": "display_data",
          "data": {
            "text/markdown": "<span style='color:blue'>**: Hello My name is SOPHIA. If you have questions to ask I will answer them with pleasure. If you want to exit type bye!**</span>",
            "text/plain": [
              "<IPython.core.display.Markdown object>"
            ]
          },
          "metadata": {
            "tags": []
          }
        },
        {
          "output_type": "stream",
          "text": [
            "Hello\n"
          ],
          "name": "stdout"
        },
        {
          "output_type": "display_data",
          "data": {
            "text/markdown": "<span style='color:None'>**: Hello, it's always a pleasure to receive your visit**</span>",
            "text/plain": [
              "<IPython.core.display.Markdown object>"
            ]
          },
          "metadata": {
            "tags": []
          }
        }
      ]
    }
  ]
}